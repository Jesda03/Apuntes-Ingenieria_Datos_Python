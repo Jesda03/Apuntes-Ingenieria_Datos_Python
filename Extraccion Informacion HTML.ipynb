{
 "cells": [
  {
   "cell_type": "code",
   "execution_count": 2,
   "metadata": {},
   "outputs": [],
   "source": [
    "import bs4 #Librería BeautifulSoup\n",
    "import requests"
   ]
  },
  {
   "cell_type": "code",
   "execution_count": 3,
   "metadata": {},
   "outputs": [],
   "source": [
    "response = requests.get('http://www.platzi.com')"
   ]
  },
  {
   "cell_type": "code",
   "execution_count": 4,
   "metadata": {},
   "outputs": [],
   "source": [
    "soup = bs4.BeautifulSoup(response.text,'html.parser') #Parseo del response"
   ]
  },
  {
   "cell_type": "code",
   "execution_count": 5,
   "metadata": {},
   "outputs": [
    {
     "name": "stdout",
     "output_type": "stream",
     "text": [
      "Platzi: Cursos online profesionales de tecnología\n"
     ]
    }
   ],
   "source": [
    "print(soup.title.text) #Obtención del title"
   ]
  },
  {
   "cell_type": "code",
   "execution_count": 6,
   "metadata": {},
   "outputs": [
    {
     "name": "stdout",
     "output_type": "stream",
     "text": [
      "[<meta content=\"Aprende desde cero a crear el futuro de la web. Cursos de Desarrollo, Diseño, Marketing, y Negocios.\" name=\"description\"/>]\n"
     ]
    }
   ],
   "source": [
    "print(soup.select('meta[name=description]')) #Selector de css en el head - OJO: ES UN LIST"
   ]
  },
  {
   "cell_type": "code",
   "execution_count": 11,
   "metadata": {},
   "outputs": [
    {
     "name": "stdout",
     "output_type": "stream",
     "text": [
      "Aprende desde cero a crear el futuro de la web. Cursos de Desarrollo, Diseño, Marketing, y Negocios.\n"
     ]
    }
   ],
   "source": [
    "print(soup.select('meta[name=description]')[0]['content']) #Selector que solo apunta al elemento \"content\" del primer (y único) elemento en el meta"
   ]
  },
  {
   "cell_type": "code",
   "execution_count": 21,
   "metadata": {},
   "outputs": [
    {
     "name": "stdout",
     "output_type": "stream",
     "text": [
      "/cursos/web-avanzado\n",
      "/cursos/tecnicas-iluminacion\n",
      "/cursos/fisica-matematica\n",
      "/cursos/funcional-js\n",
      "/cursos/oop\n",
      "/cursos/bash-shell\n",
      "/cursos/firebase-cloud\n",
      "/cursos/curso-php-laravel\n",
      "/cursos/apps-ios\n",
      "/cursos/programacion-estructurada\n",
      "/cursos/php-avanzado\n",
      "/cursos/flutter\n",
      "/cursos/machine-learning\n",
      "/cursos/jee\n",
      "/cursos/capacitacion-equipos\n"
     ]
    }
   ],
   "source": [
    "#Obtención de links (hay que analizar como están estructuradas inspeccionando la página)\n",
    "courses_links = soup.select('.RecentCourses-item > a')\n",
    "courses = [course['href'] for course in courses_links]\n",
    "\n",
    "for course in courses:\n",
    "   print(course)\n",
    " "
   ]
  },
  {
   "cell_type": "code",
   "execution_count": null,
   "metadata": {},
   "outputs": [],
   "source": []
  }
 ],
 "metadata": {
  "kernelspec": {
   "display_name": "Python 3",
   "language": "python",
   "name": "python3"
  },
  "language_info": {
   "codemirror_mode": {
    "name": "ipython",
    "version": 3
   },
   "file_extension": ".py",
   "mimetype": "text/x-python",
   "name": "python",
   "nbconvert_exporter": "python",
   "pygments_lexer": "ipython3",
   "version": "3.7.1"
  }
 },
 "nbformat": 4,
 "nbformat_minor": 2
}
